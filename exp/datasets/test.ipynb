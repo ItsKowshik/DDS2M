{
 "cells": [
  {
   "cell_type": "code",
   "execution_count": 1,
   "metadata": {},
   "outputs": [],
   "source": [
    "import pickle\n",
    "import torch\n",
    "from torch.utils.data import Dataset, DataLoader\n",
    "from PIL import Image\n",
    "import io\n",
    "import numpy as np\n",
    "from tqdm import tqdm  # Import tqdm"
   ]
  },
  {
   "cell_type": "code",
   "execution_count": 5,
   "metadata": {},
   "outputs": [],
   "source": [
    "with open('gum_demo_data.pickle', 'rb') as f:\n",
    "    x_test, y_test, observed_mask, missing_mask, ground_truth = pickle.load(f, encoding='latin1')\n"
   ]
  },
  {
   "cell_type": "code",
   "execution_count": 15,
   "metadata": {},
   "outputs": [],
   "source": [
    "val_loader = DataLoader(\n",
    "            x_test,\n",
    "            batch_size=6,\n",
    "            shuffle=True,\n",
    "            num_workers=2,\n",
    "        )"
   ]
  },
  {
   "cell_type": "code",
   "execution_count": 20,
   "metadata": {},
   "outputs": [
    {
     "name": "stderr",
     "output_type": "stream",
     "text": [
      "  6%|▌         | 1/17 [00:00<00:11,  1.35it/s]"
     ]
    },
    {
     "name": "stdout",
     "output_type": "stream",
     "text": [
      "torch.Size([6, 32, 32, 32, 1])\n"
     ]
    },
    {
     "name": "stderr",
     "output_type": "stream",
     "text": [
      "100%|██████████| 17/17 [00:01<00:00, 10.37it/s]"
     ]
    },
    {
     "name": "stdout",
     "output_type": "stream",
     "text": [
      "torch.Size([6, 32, 32, 32, 1])\n",
      "torch.Size([6, 32, 32, 32, 1])\n",
      "torch.Size([6, 32, 32, 32, 1])\n",
      "torch.Size([6, 32, 32, 32, 1])\n",
      "torch.Size([6, 32, 32, 32, 1])\n",
      "torch.Size([6, 32, 32, 32, 1])\n",
      "torch.Size([6, 32, 32, 32, 1])\n",
      "torch.Size([6, 32, 32, 32, 1])\n",
      "torch.Size([6, 32, 32, 32, 1])\n",
      "torch.Size([6, 32, 32, 32, 1])\n",
      "torch.Size([6, 32, 32, 32, 1])\n",
      "torch.Size([6, 32, 32, 32, 1])\n",
      "torch.Size([6, 32, 32, 32, 1])\n",
      "torch.Size([6, 32, 32, 32, 1])\n",
      "torch.Size([6, 32, 32, 32, 1])\n",
      "torch.Size([4, 32, 32, 32, 1])\n"
     ]
    },
    {
     "name": "stderr",
     "output_type": "stream",
     "text": [
      "\n"
     ]
    }
   ],
   "source": [
    "for image in (tqdm(val_loader)):\n",
    "    print(image.shape)"
   ]
  },
  {
   "cell_type": "code",
   "execution_count": 25,
   "metadata": {},
   "outputs": [
    {
     "name": "stdout",
     "output_type": "stream",
     "text": [
      "torch.Size([1, 1, 32, 32, 32])\n",
      "torch.Size([1, 1, 32, 32, 32])\n",
      "torch.Size([1, 1, 32, 32, 32])\n",
      "torch.Size([1, 1, 32, 32, 32])\n",
      "torch.Size([1, 1, 32, 32, 32])\n",
      "torch.Size([1, 1, 32, 32, 32])\n",
      "torch.Size([1, 1, 32, 32, 32])\n",
      "torch.Size([1, 1, 32, 32, 32])\n",
      "torch.Size([1, 1, 32, 32, 32])\n",
      "torch.Size([1, 1, 32, 32, 32])\n",
      "torch.Size([1, 1, 32, 32, 32])\n",
      "torch.Size([1, 1, 32, 32, 32])\n",
      "torch.Size([1, 1, 32, 32, 32])\n",
      "torch.Size([1, 1, 32, 32, 32])\n",
      "torch.Size([1, 1, 32, 32, 32])\n",
      "torch.Size([1, 1, 32, 32, 32])\n",
      "torch.Size([1, 1, 32, 32, 32])\n",
      "torch.Size([1, 1, 32, 32, 32])\n",
      "torch.Size([1, 1, 32, 32, 32])\n",
      "torch.Size([1, 1, 32, 32, 32])\n",
      "torch.Size([1, 1, 32, 32, 32])\n",
      "torch.Size([1, 1, 32, 32, 32])\n",
      "torch.Size([1, 1, 32, 32, 32])\n",
      "torch.Size([1, 1, 32, 32, 32])\n",
      "torch.Size([1, 1, 32, 32, 32])\n",
      "torch.Size([1, 1, 32, 32, 32])\n",
      "torch.Size([1, 1, 32, 32, 32])\n",
      "torch.Size([1, 1, 32, 32, 32])\n",
      "torch.Size([1, 1, 32, 32, 32])\n",
      "torch.Size([1, 1, 32, 32, 32])\n",
      "torch.Size([1, 1, 32, 32, 32])\n",
      "torch.Size([1, 1, 32, 32, 32])\n",
      "torch.Size([1, 1, 32, 32, 32])\n",
      "torch.Size([1, 1, 32, 32, 32])\n",
      "torch.Size([1, 1, 32, 32, 32])\n",
      "torch.Size([1, 1, 32, 32, 32])\n",
      "torch.Size([1, 1, 32, 32, 32])\n",
      "torch.Size([1, 1, 32, 32, 32])\n",
      "torch.Size([1, 1, 32, 32, 32])\n",
      "torch.Size([1, 1, 32, 32, 32])\n",
      "torch.Size([1, 1, 32, 32, 32])\n",
      "torch.Size([1, 1, 32, 32, 32])\n",
      "torch.Size([1, 1, 32, 32, 32])\n",
      "torch.Size([1, 1, 32, 32, 32])\n",
      "torch.Size([1, 1, 32, 32, 32])\n",
      "torch.Size([1, 1, 32, 32, 32])\n",
      "torch.Size([1, 1, 32, 32, 32])\n",
      "torch.Size([1, 1, 32, 32, 32])\n",
      "torch.Size([1, 1, 32, 32, 32])\n",
      "torch.Size([1, 1, 32, 32, 32])\n",
      "torch.Size([1, 1, 32, 32, 32])\n",
      "torch.Size([1, 1, 32, 32, 32])\n",
      "torch.Size([1, 1, 32, 32, 32])\n",
      "torch.Size([1, 1, 32, 32, 32])\n",
      "torch.Size([1, 1, 32, 32, 32])\n",
      "torch.Size([1, 1, 32, 32, 32])\n",
      "torch.Size([1, 1, 32, 32, 32])\n",
      "torch.Size([1, 1, 32, 32, 32])\n",
      "torch.Size([1, 1, 32, 32, 32])\n",
      "torch.Size([1, 1, 32, 32, 32])\n",
      "torch.Size([1, 1, 32, 32, 32])\n",
      "torch.Size([1, 1, 32, 32, 32])\n",
      "torch.Size([1, 1, 32, 32, 32])\n",
      "torch.Size([1, 1, 32, 32, 32])\n",
      "torch.Size([1, 1, 32, 32, 32])\n",
      "torch.Size([1, 1, 32, 32, 32])\n",
      "torch.Size([1, 1, 32, 32, 32])\n",
      "torch.Size([1, 1, 32, 32, 32])\n",
      "torch.Size([1, 1, 32, 32, 32])\n",
      "torch.Size([1, 1, 32, 32, 32])\n",
      "torch.Size([1, 1, 32, 32, 32])\n",
      "torch.Size([1, 1, 32, 32, 32])\n",
      "torch.Size([1, 1, 32, 32, 32])\n",
      "torch.Size([1, 1, 32, 32, 32])\n",
      "torch.Size([1, 1, 32, 32, 32])\n",
      "torch.Size([1, 1, 32, 32, 32])\n",
      "torch.Size([1, 1, 32, 32, 32])\n",
      "torch.Size([1, 1, 32, 32, 32])\n",
      "torch.Size([1, 1, 32, 32, 32])\n",
      "torch.Size([1, 1, 32, 32, 32])\n",
      "torch.Size([1, 1, 32, 32, 32])\n",
      "torch.Size([1, 1, 32, 32, 32])\n",
      "torch.Size([1, 1, 32, 32, 32])\n",
      "torch.Size([1, 1, 32, 32, 32])\n",
      "torch.Size([1, 1, 32, 32, 32])\n",
      "torch.Size([1, 1, 32, 32, 32])\n",
      "torch.Size([1, 1, 32, 32, 32])\n",
      "torch.Size([1, 1, 32, 32, 32])\n",
      "torch.Size([1, 1, 32, 32, 32])\n",
      "torch.Size([1, 1, 32, 32, 32])\n",
      "torch.Size([1, 1, 32, 32, 32])\n",
      "torch.Size([1, 1, 32, 32, 32])\n",
      "torch.Size([1, 1, 32, 32, 32])\n",
      "torch.Size([1, 1, 32, 32, 32])\n",
      "torch.Size([1, 1, 32, 32, 32])\n",
      "torch.Size([1, 1, 32, 32, 32])\n",
      "torch.Size([1, 1, 32, 32, 32])\n",
      "torch.Size([1, 1, 32, 32, 32])\n",
      "torch.Size([1, 1, 32, 32, 32])\n",
      "torch.Size([1, 1, 32, 32, 32])\n"
     ]
    }
   ],
   "source": [
    "for i, image in enumerate(x_test):\n",
    "    image = torch.from_numpy(image).permute(3,0,1,2).unsqueeze(0)\n",
    "    print(image.shape) "
   ]
  },
  {
   "cell_type": "code",
   "execution_count": 23,
   "metadata": {},
   "outputs": [],
   "source": [
    "mask_1 = np.tile(np.expand_dims(observed_mask, -1), (x_test.shape[0], 1, 1, 1, 1))\n",
    "mask_2 = np.tile(np.expand_dims(missing_mask, -1), (x_test.shape[0], 1, 1, 1, 1))"
   ]
  },
  {
   "cell_type": "code",
   "execution_count": 24,
   "metadata": {},
   "outputs": [
    {
     "name": "stdout",
     "output_type": "stream",
     "text": [
      "(100, 32, 32, 32, 1)\n"
     ]
    }
   ],
   "source": [
    "print(mask_1.shape)"
   ]
  },
  {
   "cell_type": "code",
   "execution_count": null,
   "metadata": {},
   "outputs": [],
   "source": []
  }
 ],
 "metadata": {
  "kernelspec": {
   "display_name": "Python 3",
   "language": "python",
   "name": "python3"
  },
  "language_info": {
   "codemirror_mode": {
    "name": "ipython",
    "version": 3
   },
   "file_extension": ".py",
   "mimetype": "text/x-python",
   "name": "python",
   "nbconvert_exporter": "python",
   "pygments_lexer": "ipython3",
   "version": "3.10.6"
  }
 },
 "nbformat": 4,
 "nbformat_minor": 2
}
